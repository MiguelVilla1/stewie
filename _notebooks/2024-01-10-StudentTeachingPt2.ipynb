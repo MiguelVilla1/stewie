{
 "cells": [
  {
   "cell_type": "markdown",
   "metadata": {},
   "source": [
    "---\n",
    "toc: true\n",
    "comments: false\n",
    "layout: post\n",
    "title: Student Teaching Part 2\n",
    "description: This is part two of the student teaching\n",
    "type: plans\n",
    "courses: { compsci: {week: 18} }\n",
    "---"
   ]
  },
  {
   "cell_type": "markdown",
   "metadata": {},
   "source": [
    "|                               | Score | Grader Verification | Extras | Key Indicators: Blog, GitHub File(s) and Key Commits |\n",
    "|-----------------------------|---------------------------|---------|--------|------------------------------------------------------|\n",
    "| The Internet                |          0.93             | Aidan L |Extra research on LAN and packet switching|https://miguelvilla1.github.io/stewie/2023/11/27/internet_IPYNB_2_.html|\n",
    "| Routing and Computing       |          0.95             | Ryan L  |Detailed flowcharts and multiple fault tolerance paths on drawing|https://miguelvilla1.github.io/stewie/c4.1/2023/11/30/StudentTeahing_IPYNB_2_.html|\n",
    "| Beneficial and Harmful Effects |        0.92             | Tarun T|Outside research about social media effects (extra bonus hack)|https://miguelvilla1.github.io/stewie/2023/11/16/Beneficial-and-Harmful-Effect_IPYNB_2_.html|\n",
    "| Digital Divide              |          0.92             | Eshaan K|Google search examples of digital divide|https://miguelvilla1.github.io/stewie/2023/12/07/TeamTeach_IPYNB_2_.html|\n",
    "| Computing Bias              |           0.9             | Isabelle P|Research for clearer understanding of computing biases|https://miguelvilla1.github.io/stewie/2023/12/12/Computing-Bias_IPYNB_2_.html|\n",
    "| Undecidable Problems        |          0.89             | Shuban P, Akhil S|Searched up more info on halting problems and \"solutions\" to combat it1|https://miguelvilla1.github.io/stewie/2023/12/13/Undecided-Problems_IPYNB_2_.html|\n",
    "| Crowdsourcing               |          0.93             | Anthony Y|Research on crowdsourcing projects on the internet|https://miguelvilla1.github.io/stewie/2023/11/16/teamteach_IPYNB_2_.html|\n",
    "| Legal and Ethical Concerns  |          N/A              | N/A |   N/A    |http://127.0.0.1:4100/Nighthawk-Pages/2023/11/29/Team_Teach_IPYNB_2_.html|\n",
    "| Safe Computing              |          0.95             | Abby A  |Used team teach as reference for homework quiz|https://miguelvilla1.github.io/stewie/2023/12/21/Safe_Computing_IPYNB_2_.html|\n",
    "| CB Quiz                     |          53/67            |   N/A   |Research some definitions and terms that were new|https://miguelvilla1.github.io/stewie/2024/01/08/CollegeboardQuizReflection_IPYNB_2_.html|\n",
    "| Totals                      | Median Score:   0.93      | Number Complete:10/10| Extra Effort Count:9 | Key Tangible Asset Count:10/10|\n"
   ]
  }
 ],
 "metadata": {
  "language_info": {
   "name": "python"
  }
 },
 "nbformat": 4,
 "nbformat_minor": 2
}
