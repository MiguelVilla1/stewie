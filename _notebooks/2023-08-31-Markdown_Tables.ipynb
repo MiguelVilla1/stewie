{
 "cells": [
  {
   "cell_type": "markdown",
   "metadata": {},
   "source": [
    "---\n",
    "toc: true\n",
    "comments: false\n",
    "layout: post\n",
    "title: Markdown Tables - My Favorite Foods \n",
    "description: Here are my rankings for my favorite foods!\n",
    "type: hacks\n",
    "courses: { compsci: {week: 3} }\n",
    "---"
   ]
  },
  {
   "cell_type": "markdown",
   "metadata": {},
   "source": [
    "### Markdown Table\n",
    "\n",
    "| Rank | Breakfast               | Lunch           | Dinner             | Dessert                |\n",
    "|------|-------------------------|-----------------|---------------------|------------------------|\n",
    "| 1    | Cinnamon Toast Crunch   | Nutella Sandwich| Macaroni and Cheese| Chocolate Chip Ice Cream|\n",
    "| 2    | Bacon                   | Grilled Chicken | Steak              | Vanilla Ice Cream Cake |\n",
    "| 3    | Eggs                    | Spaghetti       | Carne Asada Tacos  | Chocolate Chip Cookies  |\n",
    "| 4    | Waffles                 | Burgers         | Pepperoni Pizza    | Churros                |\n",
    "| 5    | Banana Smoothie         | Chicken Soup    | Salmon             | Chocolate Milkshake    |\n"
   ]
  },
  {
   "cell_type": "markdown",
   "metadata": {},
   "source": [
    "## The Benefits of Having a Markdown Table\n",
    "Having a Markdown table can be very helpful when organizing information or looking for inforation in an easy to read format. These tables can also help show rankings of many factors; the best soccer teams, the best foods, and the most expensive cars are just some examples of the things a markdown table can organize."
   ]
  }
 ],
 "metadata": {
  "kernelspec": {
   "display_name": "Python 3",
   "language": "python",
   "name": "python3"
  },
  "language_info": {
   "codemirror_mode": {
    "name": "ipython",
    "version": 3
   },
   "file_extension": ".py",
   "mimetype": "text/x-python",
   "name": "python",
   "nbconvert_exporter": "python",
   "pygments_lexer": "ipython3",
   "version": "3.10.12"
  },
  "orig_nbformat": 4
 },
 "nbformat": 4,
 "nbformat_minor": 2
}
