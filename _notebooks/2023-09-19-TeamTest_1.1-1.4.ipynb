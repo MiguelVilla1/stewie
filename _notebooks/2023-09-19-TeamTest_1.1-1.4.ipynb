{
 "cells": [
  {
   "cell_type": "markdown",
   "metadata": {},
   "source": [
    "---\n",
    "toc: true\n",
    "comments: false\n",
    "layout: post\n",
    "title: Team Test 1.1-1.4\n",
    "description: This is the contents of our team test 1.1-1.4 video recording\n",
    "type: hacks\n",
    "courses: { compsci: {week: 5} }\n",
    "---"
   ]
  },
  {
   "cell_type": "markdown",
   "metadata": {},
   "source": [
    "## Benefits of Collaboration Within a Team\n",
    "Having a team can make the creation of a project faster and more efficient. With each task given to a group member, the project can be done with more detail due to each section being worked on specifically by one person while also being done at a faster rate. Collaboration is also important because groups can easily be off-task and not do the work they're supposed to do if there is a lack of collaboration. But when done right, a collaborating group can facilitate their project and manage each member's task, leading to an easier and more successful project.\n",
    "\n",
    "Diversities of our team: One of the diversities our team has is in its software; half of our scrum team work on Macs while the other half works on Windows computers. This can help reduce the chances of everyone having the same problem on one platform. In additon we all have differnt levels of expertise in coding, allowing for everyone to help eachother on thier respective needs.\n",
    "\n",
    "How will you hold each person accountable for their portion of the work?: We will ulitlize a system, of checks and balances, were we check eathothers work to make sure that we are all doing what is expected"
   ]
  },
  {
   "cell_type": "markdown",
   "metadata": {},
   "source": [
    "## Programs with Ouput\n",
    "Programs with output give a one-way display to the user (ex: displaying text):"
   ]
  },
  {
   "cell_type": "code",
   "execution_count": 24,
   "metadata": {},
   "outputs": [
    {
     "name": "stdout",
     "output_type": "stream",
     "text": [
      "This message is only output!\n"
     ]
    }
   ],
   "source": [
    "print(\"This message is only output!\")"
   ]
  },
  {
   "cell_type": "markdown",
   "metadata": {},
   "source": [
    "## Program with Input and Output\n",
    "Programs with both input and ouput take into account a user's response and answers back with an ouput (ex: python quizzes/surveys):"
   ]
  },
  {
   "cell_type": "code",
   "execution_count": 32,
   "metadata": {},
   "outputs": [
    {
     "name": "stdout",
     "output_type": "stream",
     "text": [
      "Question: Hi, how is your day going? good or bad?\n",
      "Oh no, I'm sorry to hear that.\n"
     ]
    }
   ],
   "source": [
    "def question_and_response(prompt):\n",
    "    print(\"Question: \" + prompt)\n",
    "    rsp=input(\"Your Answer:\")\n",
    "    return rsp\n",
    "questions=1\n",
    "\n",
    "rsp=question_and_response(\"Hi, how is your day going? good or bad?\")\n",
    "if rsp==\"good\":\n",
    "    print(\"That's nice to hear!\")\n",
    "else:\n",
    "    print(\"Oh no, I'm sorry to hear that.\")"
   ]
  },
  {
   "cell_type": "markdown",
   "metadata": {},
   "source": [
    "## Program with a List\n",
    "A program that uses a list data structure to store a group of elements."
   ]
  },
  {
   "cell_type": "code",
   "execution_count": 64,
   "metadata": {},
   "outputs": [
    {
     "name": "stdout",
     "output_type": "stream",
     "text": [
      "Added 'Apples' to the shopping list.\n",
      "Added 'Bananas' to the shopping list.\n",
      "Removed 'Apples' from the shopping list.\n"
     ]
    }
   ],
   "source": [
    "# Create a list of something\n",
    "shopping_list = []\n",
    "# Function to add something to the list\n",
    "def add_to_list(item):\n",
    "    shopping_list.append(item)\n",
    "    print(f\"Added '{item}' to the shopping list.\")\n",
    "# Function to remove something from the list\n",
    "def remove_from_list(item):\n",
    "    if item in shopping_list:\n",
    "        shopping_list.remove(item)\n",
    "        print(f\"Removed '{item}' from the shopping list.\")\n",
    "# Example usage:\n",
    "add_to_list(\"Apples\")\n",
    "add_to_list(\"Bananas\")\n",
    "remove_from_list(\"Apples\")"
   ]
  },
  {
   "cell_type": "markdown",
   "metadata": {},
   "source": [
    "## Program with a Dictionary"
   ]
  },
  {
   "cell_type": "code",
   "execution_count": 63,
   "metadata": {},
   "outputs": [
    {
     "name": "stdout",
     "output_type": "stream",
     "text": [
      "Alice's score: 95\n",
      "Bob's score: 89\n"
     ]
    }
   ],
   "source": [
    "## Program with a Dictionary\n",
    "#A dictionary allows you to store and retrieve key-value pairs.\n",
    "# Create a dictionary\n",
    "student_scores = {\n",
    "    \"Alice\": 95,\n",
    "    \"Bob\": 89,\n",
    "}\n",
    "# Retrieve the values that are assigned\n",
    "alice_score = student_scores[\"Alice\"]\n",
    "bob_score = student_scores[\"Bob\"]\n",
    "# Print the scores\n",
    "print(\"Alice's score:\", alice_score)\n",
    "print(\"Bob's score:\", bob_score)\n",
    "##\"student_scores\" is a python dictionary that associates the students with their scores. Alice and Bob are the keys and the scores they got are the values, therefore creating a key-value pair.\n"
   ]
  },
  {
   "cell_type": "markdown",
   "metadata": {},
   "source": [
    "## Program with Iteration"
   ]
  },
  {
   "cell_type": "code",
   "execution_count": 87,
   "metadata": {},
   "outputs": [
    {
     "name": "stdout",
     "output_type": "stream",
     "text": [
      "The sum of numbers is: 15\n"
     ]
    }
   ],
   "source": [
    "# Calculate the sum of numbers in a list using a for loop\n",
    "# Define a list of numbers\n",
    "numbers = [1, 2, 3, 4, 5]\n",
    "# Initialize a variable to store the sum\n",
    "sum_of_numbers = 0\n",
    "# Iterate over the list and calculate the sum\n",
    "for number in numbers:\n",
    "    sum_of_numbers += number\n",
    "# Print the sum\n",
    "print(\"The sum of numbers is:\", sum_of_numbers)"
   ]
  },
  {
   "cell_type": "markdown",
   "metadata": {},
   "source": [
    "## Program with Function to Perform Mathematical/Statistical Calculations"
   ]
  },
  {
   "cell_type": "code",
   "execution_count": 86,
   "metadata": {},
   "outputs": [
    {
     "name": "stdout",
     "output_type": "stream",
     "text": [
      "Select operation:\n",
      "1. Add\n",
      "2. Subtract\n",
      "3. Multiply\n",
      "4. Divide\n"
     ]
    },
    {
     "name": "stdout",
     "output_type": "stream",
     "text": [
      "Result:  40.0\n"
     ]
    }
   ],
   "source": [
    "# adding\n",
    "def add(x, y):\n",
    "    return x + y\n",
    "# subtracting\n",
    "def subtract(x, y):\n",
    "    return x - y\n",
    "# multiply\n",
    "def multiply(x, y):\n",
    "    return x * y\n",
    "# division\n",
    "def divide(x, y):\n",
    "    if y == 0:\n",
    "        return \"Can't divide by zero\"\n",
    "    return x / y\n",
    "# display operations\n",
    "print(\"Select operation:\")\n",
    "print(\"1. Add\")\n",
    "print(\"2. Subtract\")\n",
    "print(\"3. Multiply\")\n",
    "print(\"4. Divide\")\n",
    "# choose whether to add, subtract, multipy, divide\n",
    "choice = input(\"Enter choice (1/2/3/4): \")\n",
    "# choose your numbers\n",
    "num1 = float(input(\"Enter first number: \"))\n",
    "num2 = float(input(\"Enter second number: \"))\n",
    "# preform the selcted operation\n",
    "if choice == '1':\n",
    "    result = add(num1, num2)\n",
    "    print(\"Result: \", result)\n",
    "elif choice == '2':\n",
    "    result = subtract(num1, num2)\n",
    "    print(\"Result: \", result)\n",
    "elif choice == '3':\n",
    "    result = multiply(num1, num2)\n",
    "    print(\"Result: \", result)\n",
    "elif choice == '4':\n",
    "    result = divide(num1, num2)\n",
    "    print(\"Result: \", result)\n",
    "else:\n",
    "    print(\"Invalid input\")"
   ]
  },
  {
   "cell_type": "markdown",
   "metadata": {},
   "source": [
    "## Program with Selection/Condition\n",
    "These are programs or sections of code that include decision-making logic based on certain conditions or criteria. These conditions are typically expressed using conditional statements (e.g., if statements) that allow the program to take different actions or follow different paths of execution based on the evaluation of these conditions:"
   ]
  },
  {
   "cell_type": "code",
   "execution_count": 37,
   "metadata": {},
   "outputs": [
    {
     "name": "stdout",
     "output_type": "stream",
     "text": [
      "You are not eligible to vote yet.\n"
     ]
    }
   ],
   "source": [
    "age=int(input(\"Enter your age: \")) \n",
    "if age >= 18:\n",
    "    print(\"You are eligible to vote.\") \n",
    "else: print(\"You are not eligible to vote yet.\") "
   ]
  },
  {
   "cell_type": "markdown",
   "metadata": {},
   "source": [
    "## Program with Purpose"
   ]
  },
  {
   "cell_type": "code",
   "execution_count": 1,
   "metadata": {},
   "outputs": [
    {
     "name": "stdout",
     "output_type": "stream",
     "text": [
      "The factorial of 2 is 2\n"
     ]
    }
   ],
   "source": [
    "# Function to calculate the factorial of a number\n",
    "def factorial(n):\n",
    "    if n == 0:\n",
    "        return 1\n",
    "    else:\n",
    "        result = 1\n",
    "        for i in range(1, n + 1):\n",
    "            result *= i\n",
    "        return result\n",
    "\n",
    "# Input: Prompt the user to enter a number\n",
    "num = int(input(\"Enter a number: \"))\n",
    "\n",
    "# Calculate the factorial\n",
    "result = factorial(num)\n",
    "\n",
    "# Output: Display the factorial of the number\n",
    "print(f\"The factorial of {num} is {result}\")"
   ]
  },
  {
   "cell_type": "markdown",
   "metadata": {},
   "source": [
    "## Program Design and Development\n",
    "Here is a hangman program before we have expanded on it:"
   ]
  },
  {
   "cell_type": "code",
   "execution_count": null,
   "metadata": {},
   "outputs": [],
   "source": [
    "#!/usr/bin/python3\n",
    "# Hangman game\n",
    "\n",
    "import random\n",
    "\n",
    "class HangMan(object):\n",
    "    \n",
    "    # Hangman game\n",
    "    hang = []\n",
    "    hang.append(' +---+')\n",
    "    hang.append(' |   |')\n",
    "    hang.append('     |')\n",
    "    hang.append('     |')\n",
    "    hang.append('     |')\n",
    "    hang.append('     |')\n",
    "    hang.append('=======')\n",
    "    \n",
    "    man = {}\n",
    "    man[0] = [' 0   |']\n",
    "    man[1] = [' 0   |', ' |   |']\n",
    "    man[2] = [' 0   |', '/|   |']\n",
    "    man[3] = [' 0   |', '/|\\\\  |']\n",
    "    man[4] = [' 0   |', '/|\\\\  |', '/    |']\n",
    "    man[5] = [' 0   |', '/|\\\\  |', '/ \\\\  |']\n",
    "    \n",
    "    pics = []\n",
    "    \n",
    "    words = '''ant baboon badger bat bear beaver camel cat clam cobra cougar coyote\n",
    "crow deer dog donkey duck eagle ferret fox frog goat goose hawk lion lizard llama\n",
    "mole monkey moose mouse mule newt otter owl panda parrot pigeon python rabbit ram\n",
    "rat raven rhino salmon seal shark sheep skunk sloth snake spider stork swan tiger\n",
    "toad trout turkey turtle weasel whale wolf wombat zebra'''.split()\n",
    "\n",
    "    infStr='_-*\\'*-_-*\\'*-_-*\\'*-_-*\\'*-_-*\\'*-_-*\\'*-_-*\\'*-_-*\\'*-_-*\\'*-_-*\\''\n",
    "  \n",
    "    def __init__(self, *args, **kwargs):\n",
    "        i, j = 2, 0\n",
    "        self.pics.append(self.hang[:])\n",
    "        for ls in self.man.values():\n",
    "            pic, j = self.hang[:], 0\n",
    "            for m in ls:\n",
    "                pic[i + j] = m\n",
    "                j += 1\n",
    "            self.pics.append(pic)\n",
    "\n",
    "    def pickWord(self):\n",
    "        return self.words[random.randint(0, len(self.words) - 1)]\n",
    "    \n",
    "    def printPic(self, idx, wordLen):\n",
    "        for line in self.pics[idx]:\n",
    "            print(line)\n",
    "            \n",
    "    def askAndEvaluate(self, word, result, missed):\n",
    "        guess = input()\n",
    "        if guess == None or len(guess) != 1 or (guess in result) or (guess in missed):\n",
    "            return None, False\n",
    "        i = 0\n",
    "        right = guess in word\n",
    "        for c in word:\n",
    "            if c == guess:\n",
    "                result[i] = c\n",
    "            i += 1\n",
    "        return guess, right\n",
    "\n",
    "    def info(self, info):\n",
    "        ln=len(self.infStr)\n",
    "        print(self.infStr[:-3])\n",
    "        print(info)\n",
    "        print(self.infStr[3:])\n",
    "            \n",
    "    def start(self):\n",
    "        print('Welcome to Hangman !')\n",
    "        word = list(self.pickWord())\n",
    "        result = list('*' * len(word))\n",
    "        print('The word is: ', result)\n",
    "        success, i, missed = False, 0, []\n",
    "        while i < len(self.pics)-1:\n",
    "            print('Guess the word: ', end='')\n",
    "            guess,right = self.askAndEvaluate(word, result, missed)\n",
    "            if guess == None:\n",
    "                print('You\\'ve already entered this character.')\n",
    "                continue\n",
    "            print(''.join(result))\n",
    "            if result == word:\n",
    "                self.info('Congratulations ! You\\'ve just saved a life !')\n",
    "                success = True\n",
    "                break\n",
    "            if not right:\n",
    "                missed.append(guess)\n",
    "                i+=1\n",
    "            self.printPic(i, len(word))\n",
    "            print('Missed characters: ', missed)\n",
    "        \n",
    "        if not success:\n",
    "            self.info('The word was \\''+''.join(word)+'\\' ! You\\'ve just killed a man, yo !')\n",
    "\n",
    "a = HangMan().start()"
   ]
  },
  {
   "cell_type": "markdown",
   "metadata": {},
   "source": [
    "Now here is the version that we have expanded on and explained:"
   ]
  },
  {
   "cell_type": "code",
   "execution_count": null,
   "metadata": {},
   "outputs": [],
   "source": [
    "#!/usr/bin/python3\n",
    "# Hangman game\n",
    "\n",
    "import random\n",
    "\n",
    "###Change made: added hint list for animal categories\n",
    "category_hints = {\n",
    "    'clam': 'Sea',\n",
    "    'salmon': 'Sea',\n",
    "    'seal': 'Sea',\n",
    "    'shark': 'Sea',\n",
    "    'trout': 'Sea',\n",
    "    'whale': 'Sea',\n",
    "    'baboon': 'Land',\n",
    "    'badger': 'Land',\n",
    "    'bat': 'Land',\n",
    "    'bear': 'Land',\n",
    "    'beaver': 'Land',\n",
    "    'camel': 'Land',\n",
    "    'cat': 'Land',\n",
    "    'cobra': 'Land',\n",
    "    'cougar': 'Land',\n",
    "    'coyote': 'Land',\n",
    "    'crow': 'Land',\n",
    "    'deer': 'Land',\n",
    "    'dog': 'Land',\n",
    "    'donkey': 'Land',\n",
    "    'duck': 'Land (ability to fly)',\n",
    "    'eagle': 'Land (ability to fly)',\n",
    "    'ferret': 'Land',\n",
    "    'fox': 'Land',\n",
    "    'frog': 'Land',\n",
    "    'goat': 'Land',\n",
    "    'goose': 'Land',\n",
    "    'hawk': 'Land (ability to fly)',\n",
    "    'lion': 'Land',\n",
    "    'lizard': 'Land',\n",
    "    'llama': 'Land',\n",
    "    'mole': 'Land',\n",
    "    'monkey': 'Land',\n",
    "    'moose': 'Land',\n",
    "    'mouse': 'Land',\n",
    "    'mule': 'Land',\n",
    "    'newt': 'Land',\n",
    "    'otter': 'Land',\n",
    "    'owl': 'Land',\n",
    "    'panda': 'Land',\n",
    "    'parrot': 'Land',\n",
    "    'pigeon': 'Land (ability to fly)',\n",
    "    'python': 'Land',\n",
    "    'rabbit': 'Land',\n",
    "    'ram': 'Land',\n",
    "    'rat': 'Land',\n",
    "    'raven': 'Land',\n",
    "    'rhino': 'Land',\n",
    "    'sheep': 'Land',\n",
    "    'skunk': 'Land',\n",
    "    'sloth': 'Land',\n",
    "    'snake': 'Land',\n",
    "    'stork': 'Land (ability to fly)',\n",
    "    'swan': 'Land (ability to fly)',\n",
    "    'tiger': 'Land',\n",
    "    'toad': 'Land',\n",
    "    'turkey': 'Land (ability to fly)',\n",
    "    'turtle': 'Land',\n",
    "    'weasel': 'Land',\n",
    "    'wolf': 'Land',\n",
    "    'wombat': 'Land',\n",
    "    'zebra': 'Land',\n",
    "    'ant': 'Bugs/Insects',\n",
    "    'spider': 'Bugs/Insects',\n",
    "}\n",
    "\n",
    "class HangMan(object):\n",
    "    \n",
    "    # Hangman game\n",
    "    ###Change made: bigger stage\n",
    "    hang = []\n",
    "    hang.append(' +------------+')\n",
    "    hang.append(' |            |')\n",
    "    hang.append('              |')\n",
    "    hang.append('              |')\n",
    "    hang.append('              |')\n",
    "    hang.append('              |')\n",
    "    hang.append('================')\n",
    "    \n",
    "    man = {}\n",
    "    man[0] = [' 0            |']\n",
    "    man[1] = [' 0            |', ' |            |']\n",
    "    man[2] = [' 0            |', '/|            |']\n",
    "    man[3] = [' 0            |', '/|\\\\           |']\n",
    "    man[4] = [' 0            |', '/|\\\\           |', '/             |']\n",
    "    man[5] = [' 0            |', '/|\\\\           |', '/ \\\\           |']\n",
    "    \n",
    "    pics = []\n",
    "    \n",
    "    ###Lists possible answer words for the game\n",
    "    words = '''ant baboon badger bat bear beaver camel cat clam cobra cougar coyote\n",
    "crow deer dog donkey duck eagle ferret fox frog goat goose hawk lion lizard llama\n",
    "mole monkey moose mouse mule newt otter owl panda parrot pigeon python rabbit ram\n",
    "rat raven rhino salmon seal shark sheep skunk sloth snake spider stork swan tiger\n",
    "toad trout turkey turtle weasel whale wolf wombat zebra'''.split()\n",
    "\n",
    "    infStr='_-*\\'*-_-*\\'*-_-*\\'*-_-*\\'*-_-*\\'*-_-*\\'*-_-*\\'*-_-*\\'*-_-*\\'*-_-*\\''\n",
    "  \n",
    "    def __init__(self, *args, **kwargs):\n",
    "        i, j = 2, 0\n",
    "        self.pics.append(self.hang[:])\n",
    "        for ls in self.man.values():\n",
    "            pic, j = self.hang[:], 0\n",
    "            for m in ls:\n",
    "                pic[i + j] = m\n",
    "                j += 1\n",
    "            self.pics.append(pic)\n",
    "\n",
    "    def pickWord(self):\n",
    "        return self.words[random.randint(0, len(self.words) - 1)]\n",
    "    \n",
    "    def printPic(self, idx, wordLen):\n",
    "        for line in self.pics[idx]:\n",
    "            print(line)\n",
    "            \n",
    "            ###Defines function which asks the user to guess a letter and evaluates to see if they were correct.\n",
    "    def askAndEvaluate(self, word, result, missed):\n",
    "        guess = input()\n",
    "        if guess == None or len(guess) != 1 or (guess in result) or (guess in missed):\n",
    "            return None, False\n",
    "        i = 0\n",
    "        right = guess in word\n",
    "        for c in word:\n",
    "            if c == guess:\n",
    "                result[i] = c\n",
    "            i += 1\n",
    "        return guess, right\n",
    "\n",
    "    def info(self, info):\n",
    "        ln=len(self.infStr)\n",
    "        print(self.infStr[:-3])\n",
    "        print(info)\n",
    "        print(self.infStr[3:])\n",
    "       ###Starts the hangman game     \n",
    "    def start(self):\n",
    "        print('Welcome to Hangman, these words are in the animal category !') ###Change: more descriptive intro sentence\n",
    "        word = list(self.pickWord())\n",
    "        result = list('*' * len(word))\n",
    "        print('The word is: ', result)\n",
    "        success, i, missed = False, 0, []\n",
    "        while i < len(self.pics)-1:\n",
    "            print('Guess the word: ', end='')\n",
    "            guess,right = self.askAndEvaluate(word, result, missed)\n",
    "            if guess == None:\n",
    "                print('You\\'ve already entered this character.')\n",
    "                continue\n",
    "            print(''.join(result))\n",
    "            if result == word: ###If/else conditions which either congratulate user for right answer or add appendage for wrong answer\n",
    "                self.info('Congratulations ! You\\'ve just saved a life !')\n",
    "                success = True\n",
    "                break\n",
    "            if not right:\n",
    "                missed.append(guess)\n",
    "                i+=1\n",
    "            self.printPic(i, len(word))\n",
    "            print('Missed characters: ', missed)\n",
    "            \n",
    "            ###Change made: added hint after every wrong answer to help user\n",
    "            if i < len(self.pics) - 1:\n",
    "                word_category = category_hints.get(''.join(word), 'No category available.')\n",
    "                print('Hint:', word_category)        \n",
    "        if not success:\n",
    "            self.info('The word was \\''+''.join(word)+'\\' ! You\\'ve just killed a man, yo !')\n",
    "\n",
    "a = HangMan().start()"
   ]
  },
  {
   "cell_type": "markdown",
   "metadata": {},
   "source": [
    "## Documentation of Programs with Lists and Iteration"
   ]
  },
  {
   "cell_type": "code",
   "execution_count": 84,
   "metadata": {},
   "outputs": [
    {
     "name": "stdout",
     "output_type": "stream",
     "text": [
      "There are 8 factors of 5 in this list.\n"
     ]
    }
   ],
   "source": [
    "###List of the numbers that are being evaluated\n",
    "numbers= [90,81,75,63,82,40,25,46,54,30,55,1035,900]\n",
    "\n",
    "Factors_of_5=0 ###Gives the program a starting value for how many factors of 5 there are in the list\n",
    "\n",
    "###Adds 1 to total factors of 5 if the remainder (%) of the number when divided by 5 is 0\n",
    "for num in numbers:\n",
    "    if num % 5==0:\n",
    "        Factors_of_5 +=1\n",
    "      \n",
    "###Prints out final text including the string counting the factors of 5 in the list of numbers alog with text       \n",
    "print(\"There are \" + str(Factors_of_5) + \" factors of 5 in this list.\")"
   ]
  },
  {
   "cell_type": "markdown",
   "metadata": {},
   "source": [
    "## Comments on a Program with Mathematical/Statistical Calculation"
   ]
  },
  {
   "cell_type": "code",
   "execution_count": null,
   "metadata": {},
   "outputs": [],
   "source": [
    "## Simple calculator\n",
    "\n",
    "# Function for adding two numbers\n",
    "def add(x, y):\n",
    "    return x + y\n",
    "\n",
    "# Function for subtracting two numbers\n",
    "def subtract(x, y):\n",
    "    return x - y\n",
    "\n",
    "# Function for multiplying two numbers\n",
    "def multiply(x, y):\n",
    "    return x * y\n",
    "\n",
    "# Function for dividing two numbers, with a check for division by zero\n",
    "def divide(x, y):\n",
    "    if y == 0:\n",
    "        return \"Can't divide by zero\"\n",
    "    return x / y\n",
    "\n",
    "# Display available operations to the user\n",
    "print(\"Select operation:\")\n",
    "print(\"1. Add\")\n",
    "print(\"2. Subtract\")\n",
    "print(\"3. Multiply\")\n",
    "print(\"4. Divide\")\n",
    "\n",
    "# User input: choose the desired operation\n",
    "choice = input(\"Enter choice (1/2/3/4): \")\n",
    "\n",
    "# User input: enter the first and second numbers for the operation\n",
    "num1 = float(input(\"Enter first number: \"))\n",
    "num2 = float(input(\"Enter second number: \"))\n",
    "\n",
    "# Perform the selected operation based on the user's choice\n",
    "if choice == '1':\n",
    "    result = add(num1, num2)\n",
    "    print(\"Result: \", result)\n",
    "elif choice == '2':\n",
    "    result = subtract(num1, num2)\n",
    "    print(\"Result: \", result)\n",
    "elif choice == '3':\n",
    "    result = multiply(num1, num2)\n",
    "    print(\"Result: \", result)\n",
    "elif choice == '4':\n",
    "    result = divide(num1, num2)\n",
    "    print(\"Result: \", result)\n",
    "else:\n",
    "    print(\"Invalid input\")"
   ]
  },
  {
   "cell_type": "markdown",
   "metadata": {},
   "source": [
    "## Identifying and Correcting Errors\n",
    "These are programs that help reduce errors when inputting information:"
   ]
  },
  {
   "cell_type": "markdown",
   "metadata": {},
   "source": [
    "If/Else statements:\n",
    "These statements are clear and well structured. They're easy to read and use and reduce the chances of errors. If/else statements handle errors nicely as you can check if the output is working which reduces the chance of unexpected behaviors such as crashes."
   ]
  },
  {
   "cell_type": "code",
   "execution_count": 96,
   "metadata": {},
   "outputs": [
    {
     "name": "stdout",
     "output_type": "stream",
     "text": [
      "You are not eligible to vote yet. Please wait until you are 18 or older.\n"
     ]
    }
   ],
   "source": [
    "## Show comments and code logic that reduces errors in code with if / else statements.\n",
    "# Check if a person can vote based on age\n",
    "# Input: age - an integer representing a person's age\n",
    "age = int(input(\"Enter your age: \"))\n",
    "# Define the minimum voting age\n",
    "voting_age = 18\n",
    "# Use an if/else statement to check if the person can vote\n",
    "if age >= voting_age:\n",
    "    print(\"You are eligible to vote.\")\n",
    "else:\n",
    "    print(\"You are not eligible to vote yet. Please wait until you are 18 or older.\")"
   ]
  },
  {
   "cell_type": "markdown",
   "metadata": {},
   "source": [
    "Try/Except Statements:\n",
    "These statements help keep code running in case an initial input doesn't work. The try is the intial function and the except is the function that runs if an error occurs."
   ]
  },
  {
   "cell_type": "code",
   "execution_count": 94,
   "metadata": {},
   "outputs": [
    {
     "name": "stdout",
     "output_type": "stream",
     "text": [
      "The square root of 25 is 5.0\n"
     ]
    }
   ],
   "source": [
    "import math\n",
    "###This example results in a successful input and output with \n",
    "try:\n",
    "    number=25\n",
    "    result= math.sqrt(number)\n",
    "    print(f\"The square root of {number} is {result}\")\n",
    "    \n",
    "except ValueError as e:\n",
    "    print(f\"Error: {e}\")"
   ]
  },
  {
   "cell_type": "code",
   "execution_count": 97,
   "metadata": {},
   "outputs": [
    {
     "name": "stdout",
     "output_type": "stream",
     "text": [
      "Error: math domain error\n"
     ]
    }
   ],
   "source": [
    "import math\n",
    "\n",
    "try:\n",
    "    number=-43\n",
    "    result= math.sqrt(number)\n",
    "    print(f\"The square root of {number} is {result}\")\n",
    "    \n",
    "except ValueError as e:\n",
    "    print(f\"Error: {e}\")"
   ]
  }
 ],
 "metadata": {
  "kernelspec": {
   "display_name": "Python 3",
   "language": "python",
   "name": "python3"
  },
  "language_info": {
   "codemirror_mode": {
    "name": "ipython",
    "version": 3
   },
   "file_extension": ".py",
   "mimetype": "text/x-python",
   "name": "python",
   "nbconvert_exporter": "python",
   "pygments_lexer": "ipython3",
   "version": "3.10.12"
  },
  "orig_nbformat": 4
 },
 "nbformat": 4,
 "nbformat_minor": 2
}
