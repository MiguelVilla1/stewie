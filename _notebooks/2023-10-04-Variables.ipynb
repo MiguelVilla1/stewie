{
 "cells": [
  {
   "cell_type": "markdown",
   "metadata": {},
   "source": [
    "---\n",
    "toc: true\n",
    "comments: false\n",
    "layout: post\n",
    "title: Team Lesson:Variables\n",
    "description: This are the Variables presentation hacks\n",
    "type: hacks\n",
    "courses: { compsci: {week: 7} }\n",
    "---"
   ]
  },
  {
   "cell_type": "markdown",
   "metadata": {},
   "source": [
    "## Requirements for variables\n",
    "-Not too complicated\n",
    "-Not too simple\n"
   ]
  },
  {
   "cell_type": "markdown",
   "metadata": {},
   "source": [
    "## Popcorn Hack 1"
   ]
  },
  {
   "cell_type": "code",
   "execution_count": 2,
   "metadata": {},
   "outputs": [
    {
     "name": "stdout",
     "output_type": "stream",
     "text": [
      "Favorite Food: Popcorn\n"
     ]
    }
   ],
   "source": [
    "FavoriteFood= \"Favorite Food: Popcorn\"\n",
    "print(FavoriteFood)"
   ]
  },
  {
   "cell_type": "markdown",
   "metadata": {},
   "source": [
    "## Data Types\n",
    "-Integer: Mathematical numbers\n",
    "-Boolean: True or false statements\n",
    "-String (text): Text based info"
   ]
  },
  {
   "cell_type": "markdown",
   "metadata": {},
   "source": [
    "## Popcorn Hack 2"
   ]
  },
  {
   "cell_type": "code",
   "execution_count": 6,
   "metadata": {},
   "outputs": [
    {
     "name": "stdout",
     "output_type": "stream",
     "text": [
      "82 is an integer\n",
      "True is a boolean\n",
      "Aidan Delgado is a string\n"
     ]
    }
   ],
   "source": [
    "Number = 82\n",
    "Happy = True\n",
    "Name = \"Aidan Delgado\"\n",
    "print(str(Number) + \" is an integer\")\n",
    "print(str(Happy) + \" is a boolean\")\n",
    "print((Name) + \" is a string\")"
   ]
  },
  {
   "cell_type": "markdown",
   "metadata": {},
   "source": [
    "## Changing values"
   ]
  },
  {
   "cell_type": "code",
   "execution_count": 7,
   "metadata": {},
   "outputs": [
    {
     "name": "stdout",
     "output_type": "stream",
     "text": [
      "17\n"
     ]
    }
   ],
   "source": [
    "currentScore= 17\n",
    "highscore= currentScore\n",
    "highscore-20\n",
    "print(str(highscore))"
   ]
  },
  {
   "cell_type": "code",
   "execution_count": null,
   "metadata": {},
   "outputs": [],
   "source": [
    "num1=24\n",
    "num2=65\n",
    "num3=12\n",
    "num1=num1\n",
    "num2=num2\n",
    "num3=num3\n",
    "print(str(num1))\n",
    "print(str(num2))\n",
    "print(str(num3))"
   ]
  },
  {
   "cell_type": "markdown",
   "metadata": {},
   "source": [
    "## Strings and lists\n",
    "-String: an ordered sequence of characters\n",
    "-Lists: an ordered sequence of elements, each element is a variable"
   ]
  },
  {
   "cell_type": "code",
   "execution_count": 16,
   "metadata": {},
   "outputs": [
    {
     "name": "stdout",
     "output_type": "stream",
     "text": [
      "My second period class is Physics\n"
     ]
    }
   ],
   "source": [
    "CurrentClasses=(\"Calculus AB\", \"Physics\", \"Ceramics\", \"CompSci\", \"World History\")\n",
    "print (\"My second period class is \" + (CurrentClasses[1]))"
   ]
  },
  {
   "cell_type": "markdown",
   "metadata": {},
   "source": [
    "## Data Abstraction - Lists\n",
    "-Can help with not having to define each variable of a list"
   ]
  },
  {
   "cell_type": "markdown",
   "metadata": {},
   "source": [
    "## Json\n",
    "Helps connect frontend and backend"
   ]
  },
  {
   "cell_type": "code",
   "execution_count": null,
   "metadata": {},
   "outputs": [],
   "source": []
  },
  {
   "cell_type": "markdown",
   "metadata": {},
   "source": [
    "## Homework Hacks"
   ]
  },
  {
   "cell_type": "markdown",
   "metadata": {},
   "source": [
    "# Hack 1\n",
    "\n",
    "- Integer: Variable 1 (numStudents)\n",
    "- List: Variable 3 (groupMates)\n",
    "- Boolean: Variable 4 (dogsbeatcats)\n",
    "- String: Variable 2 (car)"
   ]
  },
  {
   "cell_type": "markdown",
   "metadata": {},
   "source": [
    "# Hack 2"
   ]
  },
  {
   "cell_type": "code",
   "execution_count": 30,
   "metadata": {},
   "outputs": [
    {
     "name": "stdout",
     "output_type": "stream",
     "text": [
      "7\n",
      "Mexican\n",
      "['Miguel', 'Aidan', 'Patrick', 'Kaiyu']\n",
      "False\n"
     ]
    }
   ],
   "source": [
    "#Integer\n",
    "FavoriteNumber= 7\n",
    "print(FavoriteNumber)\n",
    "\n",
    "#String\n",
    "Ethnicity=\"Mexican\"\n",
    "print(Ethnicity)\n",
    "\n",
    "#List\n",
    "ScrumTeam=[\"Miguel\",\"Aidan\",\"Patrick\",\"Kaiyu\"]\n",
    "print(ScrumTeam)\n",
    "\n",
    "#Boolean\n",
    "ILoveHomework=False\n",
    "print(ILoveHomework)"
   ]
  },
  {
   "cell_type": "markdown",
   "metadata": {},
   "source": [
    "# List Conversion to Json"
   ]
  },
  {
   "cell_type": "code",
   "execution_count": 35,
   "metadata": {},
   "outputs": [
    {
     "name": "stdout",
     "output_type": "stream",
     "text": [
      "<class 'list'>\n",
      "[\"Miguel\", \"Aidan\", \"Patrick\", \"Kaiyu\"]\n",
      "<class 'str'>\n"
     ]
    }
   ],
   "source": [
    "\n",
    "import json\n",
    "ScrumTeam=[\"Miguel\",\"Aidan\",\"Patrick\",\"Kaiyu\"]\n",
    "print(type(ScrumTeam))\n",
    "a=json.dumps(ScrumTeam)\n",
    "print(a)\n",
    "print(type(a))\n"
   ]
  }
 ],
 "metadata": {
  "kernelspec": {
   "display_name": "Python 3",
   "language": "python",
   "name": "python3"
  },
  "language_info": {
   "codemirror_mode": {
    "name": "ipython",
    "version": 3
   },
   "file_extension": ".py",
   "mimetype": "text/x-python",
   "name": "python",
   "nbconvert_exporter": "python",
   "pygments_lexer": "ipython3",
   "version": "3.10.12"
  },
  "orig_nbformat": 4
 },
 "nbformat": 4,
 "nbformat_minor": 2
}
