{
 "cells": [
  {
   "cell_type": "markdown",
   "metadata": {},
   "source": [
    "---\n",
    "comments: True\n",
    "layout: post\n",
    "toc: True\n",
    "title: Collegeboard Frequently Missed MCQ\n",
    "description: These are the popcorn hacks for the frequently missed MCQ\n",
    "type: hacks\n",
    "courses: {'compsci': {'week': 26}}\n",
    "---"
   ]
  },
  {
   "cell_type": "code",
   "execution_count": 11,
   "metadata": {},
   "outputs": [
    {
     "name": "stdout",
     "output_type": "stream",
     "text": [
      "Max float: 1.7976931348623157e+308\n",
      "Overflow float to infinity: inf\n"
     ]
    }
   ],
   "source": [
    "import sys\n",
    "\n",
    "# Maximum float\n",
    "max_float = sys.float_info.max\n",
    "print(f\"Max float: {max_float}\")\n",
    "\n",
    "# Attempt to overflow float\n",
    "overflow_float = max_float * 300\n",
    "print(f\"Overflow float to infinity: {overflow_float}\")"
   ]
  },
  {
   "cell_type": "code",
   "execution_count": 12,
   "metadata": {},
   "outputs": [
    {
     "name": "stdout",
     "output_type": "stream",
     "text": [
      "A B C D --> Output\n",
      "False False False False --> False\n",
      "False False False True --> False\n",
      "False False True False --> False\n",
      "False False True True --> False\n",
      "False True False False --> False\n",
      "False True False True --> False\n",
      "False True True False --> False\n",
      "False True True True --> True\n",
      "True False False False --> False\n",
      "True False False True --> False\n",
      "True False True False --> False\n",
      "True False True True --> True\n",
      "True True False False --> False\n",
      "True True False True --> False\n",
      "True True True False --> False\n",
      "True True True True --> True\n"
     ]
    }
   ],
   "source": [
    "def OR_gate(A, B):\n",
    "    return A or B\n",
    "\n",
    "# AND gate\n",
    "def AND_gate(A, B):\n",
    "    return A and B\n",
    "\n",
    "# Theoritical circuit representing a Car starting\n",
    "# A and B could be security checks, such as key being inserted or a fob being present\n",
    "# C and D could be operational checks, such as a start button being pressed and safety belt being fastened\n",
    "# The enclosing AND gate ensures car only operates when both security and operational checks are met\n",
    "def circuit(A, B, C, D):\n",
    "    return AND_gate(OR_gate(A, B), AND_gate(C, D))\n",
    "\n",
    "# Print truth table for circuit\n",
    "print('A', 'B', 'C', 'D', \"-->\", 'Output')\n",
    "# nesting of loops for both the True, False combination of A, B, C, D \n",
    "# this algorithm is 2 ^ 4 = 16, thus producing all 16 combinations \n",
    "# each combination terminates with the output of the circuit\n",
    "for A in [False, True]:\n",
    "    for B in [False, True]:\n",
    "        for C in [False, True]:\n",
    "            for D in [False, True]:\n",
    "                print(A, B, C, D, \"-->\", circuit(A, B, C, D))"
   ]
  },
  {
   "cell_type": "code",
   "execution_count": 19,
   "metadata": {},
   "outputs": [
    {
     "name": "stdout",
     "output_type": "stream",
     "text": [
      "binary: 11001111 11111000 11110111\n",
      "decimal 207 248 247\n",
      "proportion 0.8117647058823529 0.9725490196078431 0.9686274509803922\n"
     ]
    },
    {
     "data": {
      "image/png": "[encoded data removed]",
      "text/plain": [
       "<Figure size 144x144 with 1 Axes>"
      ]
     },
     "metadata": {
      "needs_background": "light"
     },
     "output_type": "display_data"
    },
    {
     "name": "stdout",
     "output_type": "stream",
     "text": [
      "binary: 00000111 00000000 00000000\n",
      "decimal 7 0 0\n",
      "proportion 0.027450980392156862 0.0 0.0\n",
      "binary: 11111111 11001111 00000000\n",
      "decimal 255 207 0\n",
      "proportion 1.0 0.8117647058823529 0.0\n",
      "binary: 00000000 01111000 11100000\n",
      "decimal 0 120 224\n",
      "proportion 0.0 0.47058823529411764 0.8784313725490196\n"
     ]
    },
    {
     "data": {
      "image/png": "[encoded data removed]",
      "text/plain": [
       "<Figure size 432x144 with 3 Axes>"
      ]
     },
     "metadata": {
      "needs_background": "light"
     },
     "output_type": "display_data"
    }
   ],
   "source": [
    "import matplotlib.pyplot as plt\n",
    "import matplotlib.patches as patches\n",
    "\n",
    "# Function to convert binary to decimal\n",
    "def binary_to_decimal(binary):\n",
    "    return int(binary, 2)\n",
    "\n",
    "def plot_colors(rgb_triplets):\n",
    "    # Create a figure with one subplot per RGB triplet\n",
    "    fig, axs = plt.subplots(1, len(rgb_triplets), figsize=(2 * len(rgb_triplets), 2))\n",
    "    \n",
    "    # Ensure axs is always a list\n",
    "    axs = axs if len(rgb_triplets) > 1 else [axs]\n",
    "\n",
    "    for ax, (red_binary, green_binary, blue_binary) in zip(axs, rgb_triplets):\n",
    "        # Convert to binary strings to decimal\n",
    "        red_decimal = binary_to_decimal(red_binary)\n",
    "        green_decimal = binary_to_decimal(green_binary)\n",
    "        blue_decimal = binary_to_decimal(blue_binary)\n",
    "\n",
    "        # Normalize number to [0, 1] range, as it is expected by matplotlib \n",
    "        red, green, blue = red_decimal/255, green_decimal/255, blue_decimal/255\n",
    "\n",
    "        # Define a rectangle patch with the binary RGB triplet color and a black border\n",
    "        rect = patches.Rectangle((0, 0), 1, 1, facecolor=(red, green, blue), edgecolor='black', linewidth=2)\n",
    "        \n",
    "        # Add the rectangle to the plot which shows the color \n",
    "        ax.add_patch(rect)\n",
    "\n",
    "        # Remove axis information, we just want to see the color\n",
    "        ax.axis('off')\n",
    "\n",
    "        # Print the binary and decimal values\n",
    "        print(\"binary:\", red_binary, green_binary, blue_binary)    \n",
    "        print(\"decimal\", red_decimal, green_decimal, blue_decimal)\n",
    "        print(\"proportion\", red, green, blue)\n",
    "\n",
    "    # Show the colors\n",
    "    plt.show()\n",
    "\n",
    "# Test the function with a list of RGB triplets\n",
    "rgb_triplet = [('11001111', '11111000', '11110111')] # College Board example\n",
    "plot_colors(rgb_triplet)\n",
    "\n",
    "rgb_primary = [('00000111', '00000000', '00000000'), \n",
    "                ('11111111', '11001111', '00000000'),\n",
    "                ('00000000', '01111000', '11100000')]\n",
    "plot_colors(rgb_primary)"
   ]
  },
  {
   "cell_type": "code",
   "execution_count": 20,
   "metadata": {},
   "outputs": [
    {
     "name": "stdout",
     "output_type": "stream",
     "text": [
      "Algorithm 2 * N took 3.44 milliseconds\n",
      "Algorithm N^2 took 2683.56 milliseconds\n",
      "Algorithm 10 times took 0.10 milliseconds\n"
     ]
    }
   ],
   "source": [
    "import time\n",
    "\n",
    "# O(n) Algorithm that accesses each element in the list twice, 2 * n times \n",
    "def algorithm_2n(lst):\n",
    "    for i in lst:\n",
    "        pass\n",
    "    for i in lst:\n",
    "        pass\n",
    "\n",
    "# O(n^2) Algorithm that accesses each element in the list n times, n * n times\n",
    "def algorithm_nSquared(lst):\n",
    "    for i in lst:\n",
    "        for j in lst:\n",
    "            pass\n",
    "\n",
    "# O(1) Algorithm that accesses only the first 10 elements in the list, 10 * 1 is constant \n",
    "def algorithm_10times(lst):\n",
    "    for i in lst[:10]:\n",
    "        pass\n",
    "\n",
    "# Create a large list\n",
    "n = 10000\n",
    "lst = list(range(n))\n",
    "\n",
    "# Measure the time taken by algorithm1\n",
    "start = time.time()\n",
    "algorithm_2n(lst)\n",
    "end = time.time()\n",
    "print(f\"Algorithm 2 * N took {(end - start)*1000:.2f} milliseconds\")\n",
    "\n",
    "# Measure the time taken by algorithm2\n",
    "start = time.time()\n",
    "algorithm_nSquared(lst)\n",
    "end = time.time()\n",
    "print(f\"Algorithm N^2 took {(end - start)*1000:.2f} milliseconds\")\n",
    "\n",
    "# Measure the time taken by algorithm3\n",
    "start = time.time()\n",
    "algorithm_10times(lst)\n",
    "end = time.time()\n",
    "print(f\"Algorithm 10 times took {(end - start)*1000:.2f} milliseconds\")"
   ]
  },
  {
   "cell_type": "code",
   "execution_count": 23,
   "metadata": {},
   "outputs": [
    {
     "name": "stdout",
     "output_type": "stream",
     "text": [
      "jackalope\n"
     ]
    }
   ],
   "source": [
    "animal = \"jackrabbit\"[0:4]  # Substring(\"jackrabbit\", 1, 4)\n",
    "animal += \"a\"  # Concat(animal, \"a\")\n",
    "animal = animal + \"antelope\"[4:8]  # Concat(Substring(\"antelope\", 5, 4), animal)\n",
    "print(animal)  # Outputs: lopejacka"
   ]
  }
 ],
 "metadata": {
  "kernelspec": {
   "display_name": "Python 3",
   "language": "python",
   "name": "python3"
  },
  "language_info": {
   "codemirror_mode": {
    "name": "ipython",
    "version": 3
   },
   "file_extension": ".py",
   "mimetype": "text/x-python",
   "name": "python",
   "nbconvert_exporter": "python",
   "pygments_lexer": "ipython3",
   "version": "3.10.12"
  }
 },
 "nbformat": 4,
 "nbformat_minor": 2
}
