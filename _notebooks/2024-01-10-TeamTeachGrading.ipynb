{
 "cells": [
  {
   "cell_type": "markdown",
   "metadata": {},
   "source": [
    "---\n",
    "toc: true\n",
    "comments: false\n",
    "layout: post\n",
    "title: Team Teach grading\n",
    "description: Team Teaching Grading group peers and contributions\n",
    "type: plans\n",
    "courses: { compsci: {week: 18} }\n",
    "---"
   ]
  },
  {
   "cell_type": "markdown",
   "metadata": {},
   "source": [
    "## Team Member Grading\n",
    "- Jayden: 0.45 (Facilitated majority of the kahoot quiz, big role in directing parts of team teach to write about)\n",
    "- Brandon: 0.43 ()\n",
    "- Marcus: 0.43 ()\n",
    "- Nihar: 0.42 (Helped ideation of workflow and contribution to team teach, but, was not present on day of team teach)\n",
    "- "
   ]
  }
 ],
 "metadata": {
  "language_info": {
   "name": "python"
  }
 },
 "nbformat": 4,
 "nbformat_minor": 2
}
