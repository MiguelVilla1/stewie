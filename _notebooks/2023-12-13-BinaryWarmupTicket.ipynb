{
 "cells": [
  {
   "cell_type": "markdown",
   "metadata": {},
   "source": [
    "#### Binary Warmup Review Ticket\n",
    "### My Role\n",
    "- Styling\n",
    "- Buttons linking to each feature\n",
    "- Home page creation/set up\n",
    "\n",
    "## Styling\n",
    "- Baby Blue color scheme\n",
    "- Shaded blue colors\n",
    "\n",
    "## Buttons\n",
    "- Linked buttons to features on the homepage with HTML\n",
    "\n",
    "## Reflection\n",
    "I learned how to change styles on our page and organize the features to help give the website a clean look. I overcame the difficulty of overriding themes with the dracula highlights."
   ]
  }
 ],
 "metadata": {
  "kernelspec": {
   "display_name": "Python 3",
   "language": "python",
   "name": "python3"
  },
  "language_info": {
   "name": "python",
   "version": "3.10.12"
  }
 },
 "nbformat": 4,
 "nbformat_minor": 2
}
