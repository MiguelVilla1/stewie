{
 "cells": [
  {
   "cell_type": "markdown",
   "metadata": {},
   "source": [
    "---\n",
    "toc: true\n",
    "comments: false\n",
    "layout: post\n",
    "title: Individual Project Final \n",
    "description: This is my individual project final for CSP tri 1\n",
    "type: hacks\n",
    "courses: { compsci: {week: 12} }\n",
    "---"
   ]
  },
  {
   "cell_type": "markdown",
   "metadata": {},
   "source": [
    "# Individual Project Final"
   ]
  },
  {
   "cell_type": "markdown",
   "metadata": {},
   "source": [
    "## Value of the Timebox\n",
    "- Keep track of what projects were done at certain weeks\n",
    "- Library of past lessons and code\n",
    "- Helped facilitate weekly gols and progress in projects"
   ]
  },
  {
   "cell_type": "markdown",
   "metadata": {},
   "source": [
    "## Contributions to Project\n",
    "\n",
    "### Frontend Cover / CSS Page\n",
    "- FIFA inspired colors \n",
    "- HTML attribute buttons, open a pack page, linking buttons to different sections of the frontend\n",
    "### AWS Deployment\n",
    "- Walked through deployment until certbot config\n",
    "##### Problems\n",
    "- API and backend not setup properly, led to improper AWS setup\n",
    "##### Solutions\n",
    "- Learned about API setup before trying the deployment process again (With Aidan)\n",
    "- Aidan and I walked through each step together, deployed the backend successfully\n",
    "### API\n",
    "- (Tried but failed) Created \n",
    "#### Previous API attempt / mistakes\n",
    "- No API model\n",
    "- Improper endpoints on frontend and backend\n",
    "- Over reliance on AI help for checking code"
   ]
  },
  {
   "cell_type": "code",
   "execution_count": null,
   "metadata": {},
   "outputs": [],
   "source": [
    "from flask import Flask, jsonify\n",
    "from flask_cors import CORS  # Import CORS module\n",
    "\n",
    "app = Flask(__name__)\n",
    "CORS(app)  # Enable CORS for your app\n",
    "\n",
    "# Define position values\n",
    "CF = \"Center Forward\"\n",
    "## PLAYER POSITIONS\n",
    "\n",
    "players = [\n",
    "    (Player(\"Lionel Messi\", CF, 90, 80, 87, 90, 94, 33, 64), 1 / 100),\n",
    "    (Player(\"Cristiano Ronaldo\", ST, 86, 85, 90, 75, 92, 45, 78), 1 / 86),\n",
    "    (Player(\"Erling Haaland\", ST, 91, 89, 93, 66, 80, 24, 88), 1 / 91),\n",
    "## PLAYER LIST\n",
    "\n",
    "@app.route('/get_random_player', methods=[\"GET\"])\n",
    "def get_random_player():\n",
    "    random_player, _ = random.choices(players, weights=weights)[0]\n",
    "    player_info = {\n",
    "        \"Name\": random_player.name,\n",
    "        \"Position\": random_player.pos,  \n",
    "        \"Overall\": random_player.ovr, \n",
    "        \"Pace\": random_player.pac,  \n",
    "        \"Shooting\": random_player.sho,  \n",
    "        \"Passing\": random_player.pas,  \n",
    "        \"Dribbling\": random_player.dri, \n",
    "        \"Defense\": random_player.defe,  \n",
    "        \"Physicality\": random_player.phy  \n",
    "    }\n",
    "    return jsonify(player_info)\n",
    "\n",
    "if __name__ == '__main__':\n",
    "    app.run()\n"
   ]
  },
  {
   "cell_type": "markdown",
   "metadata": {},
   "source": [
    "### Team Communication\n",
    "- Pushed to have team start on project and helped split workload on which parts needed more work\n",
    "##### Reflection / What I would improve\n",
    "- Better communication with team in order to keep each other in check and on task\n",
    "- Seek out more help from peers and teachers\n",
    "- API: Look into proper creation based on jokes.py and understand API models and fetch functions"
   ]
  },
  {
   "cell_type": "markdown",
   "metadata": {},
   "source": [
    "## My Favorite Types of Code / Most Understood Code\n",
    "### Python\n",
    "- if, else, elif functions (Python Quiz)\n",
    "### HTML\n",
    "- Head, Body, and <href> attributes"
   ]
  },
  {
   "cell_type": "markdown",
   "metadata": {},
   "source": [
    "## Treasure Hunt: Python"
   ]
  },
  {
   "cell_type": "code",
   "execution_count": 16,
   "metadata": {},
   "outputs": [
    {
     "name": "stdout",
     "output_type": "stream",
     "text": [
      "Welcome to my treasure hunt, answer all the questions right to receive the treasure! Let's begin\n",
      "towel\n",
      "Correct! Here's the next question...\n",
      "coin\n",
      "Correct! Here's the next question...\n",
      "breath\n",
      "Correct! Here's the next question...\n",
      "Congratulations! You've completed the treasure hunt!\n",
      "You scored 3 / 3\n",
      "You get the big prize: https://upload.wikimedia.org/wikipedia/commons/thumb/7/7b/Obverse_of_the_series_2009_%24100_Federal_Reserve_Note.jpg/640px-Obverse_of_the_series_2009_%24100_Federal_Reserve_Note.jpg\n"
     ]
    }
   ],
   "source": [
    "print(\"Welcome to my treasure hunt, answer all the questions right to receive the treasure! Let's begin\")\n",
    "\n",
    "def ask_question(question, correct_answers):\n",
    "    while True:\n",
    "        player_answer = input(question + \" \").lower()\n",
    "        if player_answer in correct_answers:\n",
    "            print(player_answer)\n",
    "            print(\"Correct! Here's the next question...\")\n",
    "            return True\n",
    "        else:\n",
    "            print(player_answer)\n",
    "            print(\"WRONG ANSWER. But let's continue anyways...\")\n",
    "            return False\n",
    "\n",
    "questions = 3\n",
    "correct = 0\n",
    "\n",
    "question1 = \"What gets wet when drying?\"\n",
    "answer1 = [\"towel\", \"a towel\"]\n",
    "\n",
    "question2 = \"What has a head, a tail, but no body?\"\n",
    "answer2 = [\"coin\", \"a coin\"]\n",
    "\n",
    "question3 = \"This is as light as a feather, yet no one can hold it, what is it?\"\n",
    "answer3 = [\"your breath\", \"breath\"]\n",
    "\n",
    "if ask_question(question1, answer1):\n",
    "    correct += 1\n",
    "if ask_question(question2, answer2):\n",
    "    correct += 1\n",
    "if ask_question(question3, answer3):\n",
    "    correct += 1\n",
    "\n",
    "print(\"Congratulations! You've completed the treasure hunt!\")\n",
    "\n",
    "score = correct\n",
    "print(\"You scored \" + str(score) + \" / 3\")\n",
    "\n",
    "if score == 3:\n",
    "    print(\"You get the big prize: https://upload.wikimedia.org/wikipedia/commons/thumb/7/7b/Obverse_of_the_series_2009_%24100_Federal_Reserve_Note.jpg/640px-Obverse_of_the_series_2009_%24100_Federal_Reserve_Note.jpg\")\n",
    "elif score == 2:\n",
    "    print(\"You get the medium prize https://upload.wikimedia.org/wikipedia/commons/thumb/0/09/50_USD_Series_2004_Note_Front.jpg/640px-50_USD_Series_2004_Note_Front.jpg\")\n",
    "else:\n",
    "    print(\"You did not score any correct answers, so you get no prize.\")\n"
   ]
  },
  {
   "cell_type": "code",
   "execution_count": 15,
   "metadata": {
    "vscode": {
     "languageId": "html"
    }
   },
   "outputs": [
    {
     "data": {
      "text/html": [
       "\n",
       "<head>\n",
       "    <p style=\"color: red\"><strong> MOVIE GALLERY 2023</strong></p>\n",
       "    <body>\n",
       "        <div><img src=\"https://m.media-amazon.com/images/M/MV5BYzIxOTk1NDQtMzJlOC00ODZlLWE1YTAtNTA5ODZlZmZmMDBhXkEyXkFqcGdeQXVyMjkwOTAyMDU@._V1_FMjpg_UX1000_.jpg\" alt=\"Creed 3\" width=200 height=200> </div>\n",
       "        <div><img src=\"https://bethelbearfacts.com/wp-content/uploads/2023/05/guardians-of-the-galaxy-vol-three-newbutton-1676306275720.jpeg\" alt=\"GOTG 3\" width=200 height=200> </div>         \n",
       "        <a href=\"https://m.media-amazon.com/images/M/MV5BNTIzZjMyOGQtZTQ4OS00MmJhLTg0MmEtM2YwMWU0YWFjNzU3XkEyXkFqcGdeQXVyMTY3ODkyNDkz._V1_.jpg\">\n",
       "            <button id=\"Button\">Equalizer 3</button>\n",
       "    </body>\n",
       "\n"
      ],
      "text/plain": [
       "<IPython.core.display.HTML object>"
      ]
     },
     "metadata": {},
     "output_type": "display_data"
    }
   ],
   "source": [
    "%%html\n",
    "\n",
    "<head>\n",
    "    <p style=\"color: red\"><strong> MOVIE GALLERY 2023</strong></p>\n",
    "    <body>\n",
    "        <div><img src=\"https://m.media-amazon.com/images/M/MV5BYzIxOTk1NDQtMzJlOC00ODZlLWE1YTAtNTA5ODZlZmZmMDBhXkEyXkFqcGdeQXVyMjkwOTAyMDU@._V1_FMjpg_UX1000_.jpg\" alt=\"Creed 3\" width=200 height=200> </div>\n",
    "        <div><img src=\"https://bethelbearfacts.com/wp-content/uploads/2023/05/guardians-of-the-galaxy-vol-three-newbutton-1676306275720.jpeg\" alt=\"GOTG 3\" width=200 height=200> </div>         \n",
    "        <a href=\"https://m.media-amazon.com/images/M/MV5BNTIzZjMyOGQtZTQ4OS00MmJhLTg0MmEtM2YwMWU0YWFjNzU3XkEyXkFqcGdeQXVyMTY3ODkyNDkz._V1_.jpg\">\n",
    "            <button id=\"Button\">Equalizer 3</button>\n",
    "    </body>\n",
    "\n"
   ]
  }
 ],
 "metadata": {
  "kernelspec": {
   "display_name": "Python 3",
   "language": "python",
   "name": "python3"
  },
  "language_info": {
   "codemirror_mode": {
    "name": "ipython",
    "version": 3
   },
   "file_extension": ".py",
   "mimetype": "text/x-python",
   "name": "python",
   "nbconvert_exporter": "python",
   "pygments_lexer": "ipython3",
   "version": "3.10.12"
  }
 },
 "nbformat": 4,
 "nbformat_minor": 2
}
