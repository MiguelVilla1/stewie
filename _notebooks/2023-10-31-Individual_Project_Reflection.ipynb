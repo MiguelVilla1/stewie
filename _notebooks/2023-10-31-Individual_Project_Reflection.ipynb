{
 "cells": [
  {
   "cell_type": "markdown",
   "metadata": {},
   "source": [
    "# Individual Project Final\n",
    "\n",
    "## Contributions to Project\n",
    "- API Creation\n",
    "- Frontend Cover Creation\n",
    "- Button attributes to link to other posts\n",
    "- AWS deployment contribution\n",
    "## "
   ]
  },
  {
   "cell_type": "markdown",
   "metadata": {},
   "source": [
    "## My Favorite Types of Code"
   ]
  },
  {
   "cell_type": "markdown",
   "metadata": {},
   "source": [
    "## Treasure Hunt: Python and Javascript"
   ]
  },
  {
   "cell_type": "code",
   "execution_count": null,
   "metadata": {
    "vscode": {
     "languageId": "plaintext"
    }
   },
   "outputs": [],
   "source": []
  }
 ],
 "metadata": {
  "language_info": {
   "name": "python"
  }
 },
 "nbformat": 4,
 "nbformat_minor": 2
}
