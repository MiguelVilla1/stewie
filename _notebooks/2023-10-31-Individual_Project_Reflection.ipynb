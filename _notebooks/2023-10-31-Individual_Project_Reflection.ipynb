{
 "cells": [
  {
   "cell_type": "markdown",
   "metadata": {},
   "source": [
    "# Individual Project Final\n",
    "\n",
    "## Contributions to Project\n",
    "- API Creation\n",
    "- Frontend Cover Creation\n",
    "- Button attributes to link to other posts\n",
    "- AWS deployment contribution\n",
    "## "
   ]
  },
  {
   "cell_type": "markdown",
   "metadata": {},
   "source": [
    "## My Favorite Types of Code"
   ]
  },
  {
   "cell_type": "markdown",
   "metadata": {},
   "source": [
    "## Treasure Hunt: Python and Javascript"
   ]
  },
  {
   "cell_type": "code",
   "execution_count": 16,
   "metadata": {},
   "outputs": [
    {
     "name": "stdout",
     "output_type": "stream",
     "text": [
      "Welcome to my treasure hunt, answer all the questions right to receive the treasure! Let's begin\n",
      "towel\n",
      "Correct! Here's the next question...\n",
      "coin\n",
      "Correct! Here's the next question...\n",
      "breath\n",
      "Correct! Here's the next question...\n",
      "Congratulations! You've completed the treasure hunt!\n",
      "You scored 3 / 3\n",
      "You get the big prize: https://upload.wikimedia.org/wikipedia/commons/thumb/7/7b/Obverse_of_the_series_2009_%24100_Federal_Reserve_Note.jpg/640px-Obverse_of_the_series_2009_%24100_Federal_Reserve_Note.jpg\n"
     ]
    }
   ],
   "source": [
    "print(\"Welcome to my treasure hunt, answer all the questions right to receive the treasure! Let's begin\")\n",
    "\n",
    "def ask_question(question, correct_answers):\n",
    "    while True:\n",
    "        player_answer = input(question + \" \").lower()\n",
    "        if player_answer in correct_answers:\n",
    "            print(player_answer)\n",
    "            print(\"Correct! Here's the next question...\")\n",
    "            return True\n",
    "        else:\n",
    "            print(player_answer)\n",
    "            print(\"WRONG ANSWER. But let's continue anyways...\")\n",
    "            return False\n",
    "\n",
    "questions = 3\n",
    "correct = 0\n",
    "\n",
    "question1 = \"What gets wet when drying?\"\n",
    "answer1 = [\"towel\", \"a towel\"]\n",
    "\n",
    "question2 = \"What has a head, a tail, but no body?\"\n",
    "answer2 = [\"coin\", \"a coin\"]\n",
    "\n",
    "question3 = \"This is as light as a feather, yet no one can hold it, what is it?\"\n",
    "answer3 = [\"your breath\", \"breath\"]\n",
    "\n",
    "if ask_question(question1, answer1):\n",
    "    correct += 1\n",
    "if ask_question(question2, answer2):\n",
    "    correct += 1\n",
    "if ask_question(question3, answer3):\n",
    "    correct += 1\n",
    "\n",
    "print(\"Congratulations! You've completed the treasure hunt!\")\n",
    "\n",
    "score = correct\n",
    "print(\"You scored \" + str(score) + \" / 3\")\n",
    "\n",
    "if score == 3:\n",
    "    print(\"You get the big prize: https://upload.wikimedia.org/wikipedia/commons/thumb/7/7b/Obverse_of_the_series_2009_%24100_Federal_Reserve_Note.jpg/640px-Obverse_of_the_series_2009_%24100_Federal_Reserve_Note.jpg\")\n",
    "elif score == 2:\n",
    "    print(\"You get the medium prize https://upload.wikimedia.org/wikipedia/commons/thumb/0/09/50_USD_Series_2004_Note_Front.jpg/640px-50_USD_Series_2004_Note_Front.jpg\")\n",
    "else:\n",
    "    print(\"You did not score any correct answers, so you get no prize.\")\n"
   ]
  }
 ],
 "metadata": {
  "kernelspec": {
   "display_name": "Python 3",
   "language": "python",
   "name": "python3"
  },
  "language_info": {
   "codemirror_mode": {
    "name": "ipython",
    "version": 3
   },
   "file_extension": ".py",
   "mimetype": "text/x-python",
   "name": "python",
   "nbconvert_exporter": "python",
   "pygments_lexer": "ipython3",
   "version": "3.10.12"
  }
 },
 "nbformat": 4,
 "nbformat_minor": 2
}
