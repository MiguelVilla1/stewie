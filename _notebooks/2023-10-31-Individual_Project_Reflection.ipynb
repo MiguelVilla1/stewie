{
 "cells": [
  {
   "cell_type": "markdown",
   "metadata": {},
   "source": [
    "# Individual Project Final\n",
    "\n",
    "## Contributions to Project\n",
    "- API Creation\n",
    "- Frontend Cover Creation\n",
    "- Button attributes to link to other posts\n",
    "- AWS deployment contribution\n",
    "## "
   ]
  }
 ],
 "metadata": {
  "language_info": {
   "name": "python"
  }
 },
 "nbformat": 4,
 "nbformat_minor": 2
}
