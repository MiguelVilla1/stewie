{
 "cells": [
  {
   "cell_type": "markdown",
   "metadata": {},
   "source": [
    "---\n",
    "toc: true\n",
    "comments: false\n",
    "layout: post\n",
    "title: Python Quiz!\n",
    "description: Try this Python quiz\n",
    "type: hacks\n",
    "courses: { compsci: {week: 2} }\n",
    "---"
   ]
  },
  {
   "cell_type": "code",
   "execution_count": 21,
   "metadata": {},
   "outputs": [
    {
     "name": "stdout",
     "output_type": "stream",
     "text": [
      "Today you will be tested on your knowledge of soccer.\n",
      "Question:Are you ready to take a test?\n",
      "Alrighty Then!!!\n",
      "Question:Which team won the 2022 FIFA world cup?\n",
      "Argentina is correct!!\n",
      "Okay, next question --->\n",
      "Question:Who is the richest soccer player as of 2023?\n",
      "GOOOOAALL!! That is correct!!! Bolkiah plays for the Brunei National Team and has a net worth of 20 Billion dollars!\n",
      "And now, for the FINAL QUESTION...\n",
      "Question:Who is the greatest soccer player of ALL TIME?\n",
      "CORRECT!!! Messi is the best!\n",
      "WOW! You scored 3 out of 3\n",
      "Thank you for doing my quiz, see you next time!!!\n"
     ]
    }
   ],
   "source": [
    "def question_with_answer(prompt):#defines question and answer variable\n",
    "    print(\"Question:\" + prompt) #shows question\n",
    "    rsp=input(\"Answer\") #viewer responds and their response it shown back\n",
    "    return rsp\n",
    "questions=3\n",
    "correct=0 #starting score at beginning of quizprint(\"Hello, friend\")\n",
    "\n",
    "print(\"Today you will be tested on your knowledge of soccer.\")\n",
    "rsp=question_with_answer(\"Are you ready to take a test?\")\n",
    "if rsp== \"yes\":\n",
    "    print(\"Alrighty Then!!!\")\n",
    "else:\n",
    "    print(\"Let's do the quiz anyways.\")\n",
    "\n",
    "rsp = question_with_answer(\"Which team won the 2022 FIFA world cup?\")\n",
    "if rsp == \"Argentina\":              #if and else gives command to what to tell viewer if their answer was the correct one or the wrong one\n",
    "    print (rsp + \" is correct!!\")\n",
    "    correct += 1\n",
    "else:\n",
    "    print(rsp + \" isn't the right answer, you are wrong!\")\n",
    "\n",
    "print(\"Okay, next question --->\")\n",
    "\n",
    "rsp = question_with_answer(\"Who is the richest soccer player as of 2023?\")\n",
    "if rsp == \"Faiq Bolkiah\":\n",
    "    print(\"GOOOOAALL!! That is correct!!! Bolkiah plays for the Brunei National Team and has a net worth of 20 Billion dollars!\")\n",
    "    correct += 1\n",
    "else:\n",
    "    print(rsp + \" is not the richest player. You are incorrect!\")\n",
    "\n",
    "print(\"And now, for the FINAL QUESTION...\")\n",
    "\n",
    "rsp = question_with_answer(\"Who is the greatest soccer player of ALL TIME?\")\n",
    "if rsp == \"Lionel Messi\":\n",
    "    print(\"CORRECT!!! Messi is the best!\")\n",
    "    correct += 1\n",
    "else:\n",
    "    print(\"You are WRONG!!!\")\n",
    "\n",
    "print(\"WOW! You scored \" +str(correct) + \" out of \" + str(questions))\n",
    "\n",
    "print(\"Thank you for doing my quiz, see you next time!!!\")"
   ]
  }
 ],
 "metadata": {
  "kernelspec": {
   "display_name": "Python 3",
   "language": "python",
   "name": "python3"
  },
  "language_info": {
   "codemirror_mode": {
    "name": "ipython",
    "version": 3
   },
   "file_extension": ".py",
   "mimetype": "text/x-python",
   "name": "python",
   "nbconvert_exporter": "python",
   "pygments_lexer": "ipython3",
   "version": "3.10.12"
  },
  "orig_nbformat": 4
 },
 "nbformat": 4,
 "nbformat_minor": 2
}
