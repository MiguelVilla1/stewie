{
 "cells": [
  {
   "cell_type": "markdown",
   "metadata": {},
   "source": [
    "## November 14, SASS TechTalk Notes\n",
    "- No <head> or <body> in .md file\n",
    "    - Base.html gives head from the start\n",
    "- Migrate my style to SASS"
   ]
  }
 ],
 "metadata": {
  "language_info": {
   "name": "python"
  }
 },
 "nbformat": 4,
 "nbformat_minor": 2
}
