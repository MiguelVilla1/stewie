{
 "cells": [
  {
   "cell_type": "markdown",
   "metadata": {},
   "source": [
    "---\n",
    "toc: true\n",
    "comments: false\n",
    "layout: post\n",
    "title: Machine Learning With CPT\n",
    "courses: { compsci: {week: 27} }\n",
    "type: hacks\n",
    "---"
   ]
  },
  {
   "cell_type": "markdown",
   "metadata": {},
   "source": [
    "The changes that I made started with the titanic model that our group made which calculated the probability of whether or not you would survive on the Titanic.\n",
    "<img width=\"944\" alt=\"image\" src=\"https://github.com/MiguelVilla1/stewie/assets/142462105/f28d709d-b6c6-499e-92d4-8d8dec7a1262\"><div>\n",
    "Next, I changed color scheme and the tags from the titanic data in order to change it to fit my cpt project on casinos and gambling. The test takes into account a users age, status, gambling budget, and more to measure he probabilities of winning in the casino. The obbject of it suports the cpt's message about the dangers of gambling which can be seen by the low chances of winning when testing the site.<div>\n",
    "<img width=\"949\" alt=\"image\" src=\"https://github.com/MiguelVilla1/stewie/assets/142462105/ec04b001-7ba6-4753-90d2-9da3d85d0e4f\"><div>\n",
    "Here is the frontend code for the data and theme changes in order to make it casino themed:<div>\n",
    "<img width=\"709\" alt=\"image\" src=\"https://github.com/MiguelVilla1/stewie/assets/142462105/bab2bf78-4206-4574-9047-0cfa03d0183b\"><div>\n",
    "Here is the backend code for the data set used for both the original and the improved ML project testers:<div>\n",
    "<img width=\"740\" alt=\"image\" src=\"https://github.com/MiguelVilla1/stewie/assets/142462105/e98cc2a3-d224-450a-91db-2a0d5cd1f060\"><div>\n",
    "<img width=\"699\" alt=\"image\" src=\"https://github.com/MiguelVilla1/stewie/assets/142462105/d97792de-5fe3-4238-85a9-bb25b4038331\">"
   ]
  }
 ],
 "metadata": {
  "language_info": {
   "name": "python"
  }
 },
 "nbformat": 4,
 "nbformat_minor": 2
}
